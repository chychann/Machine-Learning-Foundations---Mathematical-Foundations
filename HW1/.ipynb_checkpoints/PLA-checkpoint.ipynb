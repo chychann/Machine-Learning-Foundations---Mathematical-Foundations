{
 "cells": [
  {
   "cell_type": "code",
   "execution_count": 18,
   "id": "e2979a86-a29c-4d4b-8ac5-4a7648766ddc",
   "metadata": {},
   "outputs": [
    {
     "name": "stdout",
     "output_type": "stream",
     "text": [
      "Defaulting to user installation because normal site-packages is not writeable\n",
      "Requirement already satisfied: pandas in /Users/tsaiyichen/Library/Python/3.9/lib/python/site-packages (2.0.3)\n",
      "Requirement already satisfied: python-dateutil>=2.8.2 in /Users/tsaiyichen/Library/Python/3.9/lib/python/site-packages (from pandas) (2.8.2)\n",
      "Requirement already satisfied: pytz>=2020.1 in /Users/tsaiyichen/Library/Python/3.9/lib/python/site-packages (from pandas) (2023.3)\n",
      "Requirement already satisfied: tzdata>=2022.1 in /Users/tsaiyichen/Library/Python/3.9/lib/python/site-packages (from pandas) (2023.3)\n",
      "Requirement already satisfied: numpy>=1.20.3 in /Users/tsaiyichen/Library/Python/3.9/lib/python/site-packages (from pandas) (1.25.2)\n",
      "Requirement already satisfied: six>=1.5 in /Library/Developer/CommandLineTools/Library/Frameworks/Python3.framework/Versions/3.9/lib/python3.9/site-packages (from python-dateutil>=2.8.2->pandas) (1.15.0)\n"
     ]
    }
   ],
   "source": [
    "!pip install pandas"
   ]
  },
  {
   "cell_type": "code",
   "execution_count": 5,
   "id": "0911c53f-045b-4a07-8dc5-9c5cb1b223b3",
   "metadata": {},
   "outputs": [],
   "source": [
    "import numpy as np\n",
    "import pandas as pd"
   ]
  },
  {
   "cell_type": "markdown",
   "id": "d9f6eade-8940-421a-95d8-c240ee4eacf6",
   "metadata": {},
   "source": [
    "# PLA algo"
   ]
  },
  {
   "cell_type": "code",
   "execution_count": 59,
   "id": "38af3c19-eadc-453a-b339-5d0b9b71b7df",
   "metadata": {},
   "outputs": [],
   "source": [
    "def load_data(filename):\n",
    "    '''\n",
    "    read data from file\n",
    "    The original dataset given by Coursera courses: https://www.csie.ntu.edu.tw/~htlin/mooc/datasets/mlfound_math/hw1_15_train.dat\n",
    "    You should turn the dataset to .dat file first.\n",
    "    '''\n",
    "    data = pd.read_csv(filename, sep = '\\s+', header = None)\n",
    "    row, col = data.shape[0],data.shape[1]\n",
    "    X = np.c_[np.ones((row, 1)), data.iloc[:, 0:col-1]]\n",
    "    y = data.iloc[:, col-1:col].values\n",
    "    return X,y"
   ]
  },
  {
   "cell_type": "code",
   "execution_count": 25,
   "id": "7d9a9f2e-7a4d-4531-9cae-15cacd0dce38",
   "metadata": {},
   "outputs": [
    {
     "name": "stdout",
     "output_type": "stream",
     "text": [
      "         0         1         2        3  4\n",
      "0  0.97681  0.107230  0.643850  0.29556  1\n",
      "1  0.67194  0.241800  0.830750  0.42741  1\n",
      "2  0.20619  0.233210  0.810040  0.98691  1\n",
      "3  0.51583  0.055814  0.922740  0.75797  1\n",
      "4  0.70893  0.108360  0.339510  0.77058  1\n",
      "5  0.55743  0.678040  0.061044  0.72689  1\n",
      "6  0.15654  0.755840  0.011220  0.42598 -1\n",
      "7  0.50462  0.151370  0.338780  0.41881  1\n",
      "8  0.22657  0.592720  0.241030  0.46221 -1\n",
      "9  0.49174  0.651150  0.246220  0.24796 -1\n",
      "[[1.       0.97681  0.10723  0.64385  0.29556 ]\n",
      " [1.       0.67194  0.2418   0.83075  0.42741 ]\n",
      " [1.       0.20619  0.23321  0.81004  0.98691 ]\n",
      " ...\n",
      " [1.       0.93895  0.93941  0.72496  0.95655 ]\n",
      " [1.       0.046136 0.94413  0.038311 0.26812 ]\n",
      " [1.       0.072491 0.2242   0.62592  0.67238 ]]\n"
     ]
    }
   ],
   "source": [
    "X, y = load_data('HW1/hw1_dataset.dat')"
   ]
  },
  {
   "cell_type": "code",
   "execution_count": 53,
   "id": "893aedc2-2ab6-46f3-b66c-b1b149cf08a2",
   "metadata": {},
   "outputs": [],
   "source": [
    "def PLA(X, y, theta, eta=1):\n",
    "    '''\n",
    "    '''\n",
    "    num = 0\n",
    "    prevpos = 0\n",
    "    while True:\n",
    "        y_hat = np.sign(X.dot(theta))\n",
    "        y_hat[np.where(y_hat==0)] = -1\n",
    "        index = np.where(y_hat != y)[0]\n",
    "        if not index.any():\n",
    "            break\n",
    "        if not index[index >= prevpos].any():\n",
    "            prevpos = 0\n",
    "        \n",
    "        pos = index[index >= prevpos][0]\n",
    "        prevpos = pos\n",
    "        theta += eta * y[pos, 0] * X[pos:pos+1, :].T\n",
    "        num += 1\n",
    "    return theta,num"
   ]
  },
  {
   "cell_type": "markdown",
   "id": "1016dfa9-52ef-4e0b-b789-38a7faec8c31",
   "metadata": {},
   "source": [
    "## Q15"
   ]
  },
  {
   "cell_type": "code",
   "execution_count": 54,
   "id": "2bc6032d-974c-4d24-9905-bd5304df4682",
   "metadata": {},
   "outputs": [
    {
     "name": "stdout",
     "output_type": "stream",
     "text": [
      "The num of times:  39\n"
     ]
    }
   ],
   "source": [
    "row, col = X.shape[0], X.shape[1]\n",
    "theta = np.zeros((col,1))\n",
    "theta, num = PLA(X,y,theta)\n",
    "print('The num of times: ', num)"
   ]
  },
  {
   "cell_type": "markdown",
   "id": "49f3396e-5a20-4d83-9e93-fb6f06e5b9b9",
   "metadata": {},
   "source": [
    "## Q16"
   ]
  },
  {
   "cell_type": "code",
   "execution_count": 60,
   "id": "de018e45-5c5e-4092-84f2-610cdd6b0cb0",
   "metadata": {},
   "outputs": [
    {
     "name": "stdout",
     "output_type": "stream",
     "text": [
      "The average num of times:  40.1405\n"
     ]
    }
   ],
   "source": [
    "total = 0\n",
    "for i in range(2000):\n",
    "    theta = np.zeros((col,1))\n",
    "    randpos = np.random.permutation(row)\n",
    "    X_new = X[randpos, :]\n",
    "    y_new = y[randpos, 0:1]\n",
    "    # print(X_new)\n",
    "    # print(y_new)\n",
    "    _, num = PLA(X_new, y_new, theta)\n",
    "    total+=num\n",
    "print('The average num of times: ', total/2000)"
   ]
  },
  {
   "cell_type": "markdown",
   "id": "9eff5b39-4af2-4d80-a66d-890ba5a0194c",
   "metadata": {},
   "source": [
    "## Q17"
   ]
  },
  {
   "cell_type": "code",
   "execution_count": 61,
   "id": "9f3ff1a8-8337-4c6c-bbad-88d724ef6385",
   "metadata": {},
   "outputs": [
    {
     "name": "stdout",
     "output_type": "stream",
     "text": [
      "The average num of times:  37.978\n"
     ]
    }
   ],
   "source": [
    "total = 0\n",
    "for i in range(2000):\n",
    "    theta = np.zeros((col,1))\n",
    "    randpos = np.random.permutation(row)\n",
    "    X_new = X[randpos, :]\n",
    "    y_new = y[randpos, 0:1]\n",
    "    # print(X_new)\n",
    "    # print(y_new)\n",
    "    _, num = PLA(X_new, y_new, theta = 0.5)\n",
    "    total+=num\n",
    "print('The average num of times: ', total/2000)"
   ]
  },
  {
   "cell_type": "code",
   "execution_count": null,
   "id": "4787aa5d-37d1-4600-83e8-1733798318c0",
   "metadata": {},
   "outputs": [],
   "source": []
  }
 ],
 "metadata": {
  "kernelspec": {
   "display_name": "Python 3 (ipykernel)",
   "language": "python",
   "name": "python3"
  },
  "language_info": {
   "codemirror_mode": {
    "name": "ipython",
    "version": 3
   },
   "file_extension": ".py",
   "mimetype": "text/x-python",
   "name": "python",
   "nbconvert_exporter": "python",
   "pygments_lexer": "ipython3",
   "version": "3.9.6"
  }
 },
 "nbformat": 4,
 "nbformat_minor": 5
}
