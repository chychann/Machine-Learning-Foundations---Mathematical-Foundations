{
 "cells": [
  {
   "cell_type": "code",
   "execution_count": 3,
   "id": "9c7b4d0c-c0b3-4806-8964-2f9f756bde3d",
   "metadata": {},
   "outputs": [],
   "source": [
    "import numpy as np\n",
    "import pandas as pd"
   ]
  },
  {
   "cell_type": "code",
   "execution_count": 4,
   "id": "ceb01048-d2c0-45ad-8dcd-ee1d6006e19a",
   "metadata": {},
   "outputs": [],
   "source": [
    "def load_data(filename):\n",
    "    '''\n",
    "    read data from file\n",
    "    The original dataset given by Coursera courses: https://www.csie.ntu.edu.tw/~htlin/mooc/datasets/mlfound_math/hw1_15_train.dat\n",
    "    You should turn the dataset to .dat file first.\n",
    "    '''\n",
    "    data = pd.read_csv(filename, sep = '\\s+', header = None)\n",
    "    row, col = data.shape[0],data.shape[1]\n",
    "    X = np.c_[np.ones((row, 1)), data.iloc[:, 0:col-1]]\n",
    "    y = data.iloc[:, col-1:col].values\n",
    "    return X,y"
   ]
  },
  {
   "cell_type": "code",
   "execution_count": 10,
   "id": "2b4b672a-1844-4586-849d-f5eeb3dbaac8",
   "metadata": {},
   "outputs": [],
   "source": [
    "X_train, y_train = load_data('pocket_dataset_train.dat')\n",
    "X_test, y_test = load_data('pocket_dataset_test.dat')"
   ]
  },
  {
   "cell_type": "code",
   "execution_count": null,
   "id": "01cd87b0-6f53-4373-9f03-c744977a738d",
   "metadata": {},
   "outputs": [],
   "source": []
  },
  {
   "cell_type": "code",
   "execution_count": 11,
   "id": "3abd1659-dc51-4edc-9c26-92664b8905e9",
   "metadata": {},
   "outputs": [],
   "source": [
    "def mistake(y_hat, y):\n",
    "    row,col = y.shape[0], y.shape[1]\n",
    "    return np.sum(y_hat != y) / row"
   ]
  },
  {
   "cell_type": "code",
   "execution_count": 15,
   "id": "f9eadae3-5ea5-4e61-bd01-8cc0a50595a6",
   "metadata": {},
   "outputs": [],
   "source": [
    "def pocket(X, y, theta, iter_num, eta = 1):\n",
    "    y_hat = np.sign(X.dot(theta))\n",
    "    y_hat[ np.where(y_hat == 0)] = -1\n",
    "\n",
    "    err_old = mistake(y_hat, y)\n",
    "    theta_best = np.zeros(theta.shape)\n",
    "    for t in range(iter_num):\n",
    "        index = np.where(y_hat != y)[0]\n",
    "        if not index.any():\n",
    "            break\n",
    "        pos = index[np.random.permutation(len(index))[0]]\n",
    "        theta += eta * y[pos,0] * X[pos:pos+1, :].T\n",
    "        y_hat = np.sign(X.dot(theta))\n",
    "        y_hat[np.where(y_hat == 0)] = -1\n",
    "        err_now = mistake(y_hat, y )\n",
    "        if err_now < err_old:\n",
    "            theta_best = theta.copy()\n",
    "            err_old = err_now\n",
    "    return theta_best, theta"
   ]
  },
  {
   "cell_type": "code",
   "execution_count": 17,
   "id": "0805916c-3558-48ef-b378-8005f66e1417",
   "metadata": {},
   "outputs": [
    {
     "name": "stdout",
     "output_type": "stream",
     "text": [
      "The rate of mistakes:  0.13330099999999978\n"
     ]
    }
   ],
   "source": [
    "total = 0\n",
    "row,col = X_train.shape[0], X_train.shape[1]\n",
    "theta = np.zeros((col, 1))\n",
    "for i in range(2000):\n",
    "    theta = np.zeros((col,1))\n",
    "    randpos = np.random.permutation(row)\n",
    "    X_new = X_train[randpos, :]\n",
    "    y_new = y_train[randpos, 0:1]\n",
    "    theta, theta_bad = pocket(X_new, y_new,theta, 50)\n",
    "    y_hat = np.sign(X_test.dot(theta))\n",
    "    y_hat[np.where(y_hat == 0)] = -1\n",
    "    err = mistake(y_hat, y_test)\n",
    "    total += err\n",
    "print('The rate of mistakes: ', total/2000)"
   ]
  },
  {
   "cell_type": "code",
   "execution_count": 18,
   "id": "7a2d641b-021b-4f42-a0e4-dcba9375af26",
   "metadata": {},
   "outputs": [
    {
     "name": "stdout",
     "output_type": "stream",
     "text": [
      "The rate of mistakes:  0.34911100000000017\n"
     ]
    }
   ],
   "source": [
    "total = 0\n",
    "for i in range(2000):\n",
    "    theta = np.zeros((col,1))\n",
    "    randpos = np.random.permutation(row)\n",
    "    X_new = X_train[randpos, :]\n",
    "    y_new = y_train[randpos, 0:1]\n",
    "    theta, theta_bad = pocket(X_new, y_new,theta, 50)\n",
    "    y_hat = np.sign(X_test.dot(theta_bad))\n",
    "    y_hat[np.where(y_hat == 0)] = -1\n",
    "    err = mistake(y_hat, y_test)\n",
    "    total += err\n",
    "print('The rate of mistakes: ', total/2000)"
   ]
  },
  {
   "cell_type": "code",
   "execution_count": 19,
   "id": "85153f11-d860-4f24-a12d-f61c228f4776",
   "metadata": {},
   "outputs": [
    {
     "name": "stdout",
     "output_type": "stream",
     "text": [
      "The rate of mistakes:  0.11562400000000021\n"
     ]
    }
   ],
   "source": [
    "total = 0\n",
    "for i in range(2000):\n",
    "    theta = np.zeros((col,1))\n",
    "    randpos = np.random.permutation(row)\n",
    "    X_new = X_train[randpos, :]\n",
    "    y_new = y_train[randpos, 0:1]\n",
    "    theta, theta_bad = pocket(X_new, y_new,theta, 100)\n",
    "    y_hat = np.sign(X_test.dot(theta))\n",
    "    y_hat[np.where(y_hat == 0)] = -1\n",
    "    err = mistake(y_hat, y_test)\n",
    "    total += err\n",
    "print('The rate of mistakes: ', total/2000)"
   ]
  },
  {
   "cell_type": "code",
   "execution_count": null,
   "id": "35067206-a719-4bd4-9442-570957c01d10",
   "metadata": {},
   "outputs": [],
   "source": []
  }
 ],
 "metadata": {
  "kernelspec": {
   "display_name": "Python 3 (ipykernel)",
   "language": "python",
   "name": "python3"
  },
  "language_info": {
   "codemirror_mode": {
    "name": "ipython",
    "version": 3
   },
   "file_extension": ".py",
   "mimetype": "text/x-python",
   "name": "python",
   "nbconvert_exporter": "python",
   "pygments_lexer": "ipython3",
   "version": "3.9.6"
  }
 },
 "nbformat": 4,
 "nbformat_minor": 5
}
